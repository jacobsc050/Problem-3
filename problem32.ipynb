{
 "cells": [
  {
   "cell_type": "code",
   "execution_count": 23,
   "metadata": {},
   "outputs": [],
   "source": [
    "import numpy as np \n",
    "import pandas as pd \n",
    "import matplotlib.pyplot as plt\n",
    "import math\n",
    "import random"
   ]
  },
  {
   "cell_type": "code",
   "execution_count": 24,
   "metadata": {},
   "outputs": [],
   "source": [
    "def gen_hidden_vectors(N):\n",
    "    #generate random 2d, unit vectors ---> (x, z)\n",
    "    x_vals = np.random.uniform(-1, 1, size = N)\n",
    "    z_vals = np.random.uniform(-1, 1, size = N)\n",
    "    \n",
    "    hidden_v = np.asarray([np.asarray([x, z]).reshape(2,1) for x, z in zip(x_vals, z_vals)])\n",
    "    \n",
    "    \n",
    "    return hidden_v\n",
    "\n"
   ]
  },
  {
   "cell_type": "code",
   "execution_count": 25,
   "metadata": {},
   "outputs": [],
   "source": [
    "def gen_measurement_vector(theta):\n",
    "    #generate a measurement vector --> (x,z)\n",
    "    #functions assume radians\n",
    "    components = np.array(([np.sin(theta),np.cos(theta)]))\n",
    "    magnitude = math.sqrt(sum(pow(element, 2) for element in components))\n",
    "    unit_vector = components/magnitude\n",
    "    return unit_vector"
   ]
  },
  {
   "cell_type": "code",
   "execution_count": 26,
   "metadata": {},
   "outputs": [],
   "source": [
    "def gen_n_vector(N):\n",
    "    #generate a measurement vector --> (x,z)\n",
    "     #generate random 2d, unit vectors ---> (x, z)\n",
    "    x_vals = np.random.uniform(-1, 1, size = N)\n",
    "    z_vals = np.random.uniform(-1, 1, size = N)\n",
    "    n = np.asarray([np.asarray([x, z]).reshape(2,1) for x, z in zip(x_vals, z_vals)])\n",
    "    return n"
   ]
  },
  {
   "cell_type": "code",
   "execution_count": 27,
   "metadata": {},
   "outputs": [],
   "source": [
    "\n",
    "def check_thetas(thetas, val):\n",
    "    mask = [theta == val for theta in thetas]\n",
    "    return any(mask)\n",
    "\n",
    "\n",
    "\n",
    "def experiment(number_of_runs, theta_11 = None, theta_12 = None, theta_21 = None, theta_22 = None):\n",
    "    thetas = [theta_11, theta_12, theta_21, theta_22]\n",
    "    \n",
    "    if check_thetas(thetas, None):\n",
    "        raise ValueError(f\"Thetas cannone be None. Thetas: {thetas}\")\n",
    "\n",
    "    #creates 4 experiement vectors from input theta\n",
    "    alpha_1 = gen_measurement_vector(theta_11)\n",
    "    alpha_2 = gen_measurement_vector(theta_12)\n",
    "    beta_1 = gen_measurement_vector(theta_21)\n",
    "    beta_2 = gen_measurement_vector(theta_22)\n",
    "    \n",
    "    \n",
    "    #used to calcuate correlators \n",
    "    alpha_1_beta_1 = [] \n",
    "    alpha_2_beta_1 = [] \n",
    "    alpha_1_beta_2 = [] \n",
    "    alpha_2_beta_2 = []\n",
    "    \n",
    "   \n",
    "    #creates +1 measurement vector and u vectors \n",
    "    n_axis = gen_n_vector(1)[0]\n",
    "    #print(n_axis[0])\n",
    "    components = np.array(n_axis)\n",
    "    magnitude = math.sqrt(sum(pow(element, 2) for element in components))\n",
    "    n_axis = components/magnitude\n",
    "    u1_vector = -1*n_axis\n",
    "    u2_vector = -1*u1_vector\n",
    "   \n",
    "    #does experiment\n",
    "    for measurement in range(0,number_of_runs):\n",
    "        #randomly chooses an alpha and a beta\n",
    "        #print(np.random.uniform(0, 1, size = 1)[0])\n",
    "        counter_alpha = 0 \n",
    "        counter_beta = 0\n",
    "        if random.randint(1, 2)  == 1:\n",
    "            measurement_1 = alpha_1\n",
    "            counter_alpha += 1\n",
    "        else: \n",
    "            measurement_1 = alpha_2\n",
    "            counter_alpha += 2 \n",
    "        if random.randint(1, 2) == 1:\n",
    "            measurement_2 = beta_1\n",
    "            counter_beta += 1\n",
    "        else: \n",
    "            measurement_2 = beta_2\n",
    "            counter_beta += 2\n",
    "        #generates random hidden variable\n",
    "        v1_vector = gen_hidden_vectors(1)[0]\n",
    "        #normalize v_vector\n",
    "        components = np.array(v1_vector)\n",
    "        magnitude = math.sqrt(sum(pow(element, 2) for element in components))\n",
    "        v1_vector = components/magnitude\n",
    "        v2_vector = -1*v1_vector\n",
    "       \n",
    "        \n",
    "       \n",
    "        \n",
    "        #measurements\n",
    "        a_alpha_i = np.sign(np.dot(measurement_1,u1_vector+v1_vector))\n",
    "        b_beta_i = np.sign(np.dot(measurement_2,u2_vector+v2_vector))\n",
    "        measurement = a_alpha_i[0]*b_beta_i[0]\n",
    "        \n",
    "        \n",
    "        #sorts measruements into 4 correlators to later calculate CHSH correlator\n",
    "        \n",
    "        #problem here alpha_2_beta_1 array not populating\n",
    "        if counter_alpha == 1 and counter_beta == 1:\n",
    "            alpha_1_beta_1.append(measurement)\n",
    "        elif counter_alpha == 1 and counter_beta == 2: \n",
    "            alpha_1_beta_2.append(measurement)\n",
    "        elif counter_alpha == 2 and counter_beta == 1:\n",
    "            alpha_2_beta_1.append(measurement)\n",
    "        elif counter_alpha == 2 and counter_beta == 2:\n",
    "            alpha_2_beta_2.append(measurement)\n",
    "        \n",
    "    #print(alpha_1_beta_1,alpha_1_beta_2,alpha_2_beta_1,alpha_2_beta_2)\n",
    "        \n",
    "    \n",
    "    correlator_11 = np.sum(alpha_1_beta_1)/len(alpha_1_beta_1)\n",
    "    correlator_12 = np.sum(alpha_1_beta_2)/len(alpha_1_beta_2)\n",
    "    correlator_21 = np.sum(alpha_2_beta_1)/len(alpha_2_beta_1) \n",
    "    correlator_22 = np.sum(alpha_2_beta_2)/len(alpha_2_beta_2)\n",
    "    \n",
    "    S_classic = correlator_11 + correlator_12 + correlator_21 - correlator_22    \n",
    "    \n",
    "    S_quantum = -np.cos(theta_11-theta_21)-np.cos(theta_11-theta_22)-np.cos(theta_12-theta_21)+np.cos(theta_12-theta_22)\n",
    "        \n",
    "    \n",
    "    return S_classic, S_quantum\n",
    "\n",
    "y_axis_classical = []\n",
    "y_axis_quantum = []\n",
    "x_axis = []\n",
    "number_of_experiments = 10000\n",
    "angle_divisions = 100\n",
    "for angle in np.linspace(0,2*np.pi,angle_divisions):\n",
    "    \n",
    "    angles = {\n",
    "    \"theta_11\" : 0*angle,\n",
    "    \"theta_12\" : .75*angle,\n",
    "    \"theta_21\" :  0* angle,\n",
    "    \"theta_22\" : 3*angle\n",
    "    }\n",
    "    \n",
    "    #print(angles)\n",
    "    \n",
    "    \n",
    "    classic, quantum= experiment(number_of_experiments, **angles)\n",
    "    #print(classic,quantum)\n",
    "    #print(\"Correlator: \", experiment(angle,2000), \"Angle(in radians): \", angle)\n",
    "    x_axis.append(angle)\n",
    "    y_axis_classical.append(classic)\n",
    "    y_axis_quantum.append(quantum)\n",
    "    #print(experiment(angle,number_of_experiments), angle)\n",
    "        \n"
   ]
  },
  {
   "cell_type": "code",
   "execution_count": 28,
   "metadata": {},
   "outputs": [
    {
     "data": {
      "text/plain": [
       "<matplotlib.legend.Legend at 0x122b2e90>"
      ]
     },
     "execution_count": 28,
     "metadata": {},
     "output_type": "execute_result"
    },
    {
     "data": {
      "image/png": "[encoded data removed]",
      "text/plain": [
       "<Figure size 432x288 with 1 Axes>"
      ]
     },
     "metadata": {
      "needs_background": "light"
     },
     "output_type": "display_data"
    }
   ],
   "source": [
    "plt.xlabel('Angle in Radians')\n",
    "plt.ylabel('|Correlation Value|')\n",
    "plt.title(f'Correlations (Experiments: {number_of_experiments}, Angles: {angle_divisions})')\n",
    "plt.plot(x_axis,np.abs(y_axis_classical),'ro')\n",
    "plt.plot(x_axis,np.abs(y_axis_quantum),'bo')\n",
    "plt.legend([\"Bell-Mermin\", \"quantum\"])"
   ]
  }
 ],
 "metadata": {
  "interpreter": {
   "hash": "8d35416b8618b5d0fcfd5143ea38653028f802340e055c8a91a5e9e59789eb4f"
  },
  "kernelspec": {
   "display_name": "Python 3.7.0 32-bit",
   "language": "python",
   "name": "python3"
  },
  "language_info": {
   "codemirror_mode": {
    "name": "ipython",
    "version": 3
   },
   "file_extension": ".py",
   "mimetype": "text/x-python",
   "name": "python",
   "nbconvert_exporter": "python",
   "pygments_lexer": "ipython3",
   "version": "3.7.0"
  },
  "orig_nbformat": 4
 },
 "nbformat": 4,
 "nbformat_minor": 2
}
