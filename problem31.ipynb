{
 "cells": [
  {
   "cell_type": "code",
   "execution_count": 871,
   "metadata": {},
   "outputs": [],
   "source": [
    "import numpy as np \n",
    "import pandas as pd \n",
    "import matplotlib.pyplot as plt\n",
    "import math\n",
    "import random\n"
   ]
  },
  {
   "cell_type": "code",
   "execution_count": 872,
   "metadata": {},
   "outputs": [
    {
     "data": {
      "text/plain": [
       "array([[[ 0.97772371],\n",
       "        [ 0.73699015]],\n",
       "\n",
       "       [[ 0.46377807],\n",
       "        [-0.15507994]],\n",
       "\n",
       "       [[-0.13017452],\n",
       "        [ 0.83220455]],\n",
       "\n",
       "       [[-0.77820009],\n",
       "        [ 0.28664686]],\n",
       "\n",
       "       [[-0.60579801],\n",
       "        [ 0.55207488]],\n",
       "\n",
       "       [[-0.94018466],\n",
       "        [-0.75514038]],\n",
       "\n",
       "       [[-0.59654498],\n",
       "        [-0.47361411]],\n",
       "\n",
       "       [[ 0.44141348],\n",
       "        [ 0.36577543]],\n",
       "\n",
       "       [[-0.07946467],\n",
       "        [ 0.2704553 ]],\n",
       "\n",
       "       [[-0.14594304],\n",
       "        [-0.84443443]]])"
      ]
     },
     "execution_count": 872,
     "metadata": {},
     "output_type": "execute_result"
    }
   ],
   "source": [
    "\n",
    "\n",
    "def gen_momentum_vectors(N):\n",
    "    #generate random 2d, unit vectors ---> (x, z)\n",
    "    x_vals = np.random.uniform(-1, 1, size = N)\n",
    "    z_vals = np.random.uniform(-1, 1, size = N)\n",
    "    \n",
    "    J_plus = np.asarray([np.asarray([x, z]).reshape(2,1) for x, z in zip(x_vals, z_vals)])\n",
    "    J_minus = np.asarray([-1*Jp for Jp in J_plus])\n",
    "    \n",
    "    return [J_plus, J_minus]\n",
    "\n",
    "\n",
    "vecs = gen_momentum_vectors(10)\n",
    "\n",
    "\n",
    "vecs[1]    \n"
   ]
  },
  {
   "cell_type": "code",
   "execution_count": 873,
   "metadata": {},
   "outputs": [
    {
     "data": {
      "text/plain": [
       "array([[[-0.97772371],\n",
       "        [-0.73699015]],\n",
       "\n",
       "       [[-0.46377807],\n",
       "        [ 0.15507994]],\n",
       "\n",
       "       [[ 0.13017452],\n",
       "        [-0.83220455]],\n",
       "\n",
       "       [[ 0.77820009],\n",
       "        [-0.28664686]],\n",
       "\n",
       "       [[ 0.60579801],\n",
       "        [-0.55207488]],\n",
       "\n",
       "       [[ 0.94018466],\n",
       "        [ 0.75514038]],\n",
       "\n",
       "       [[ 0.59654498],\n",
       "        [ 0.47361411]],\n",
       "\n",
       "       [[-0.44141348],\n",
       "        [-0.36577543]],\n",
       "\n",
       "       [[ 0.07946467],\n",
       "        [-0.2704553 ]],\n",
       "\n",
       "       [[ 0.14594304],\n",
       "        [ 0.84443443]]])"
      ]
     },
     "execution_count": 873,
     "metadata": {},
     "output_type": "execute_result"
    }
   ],
   "source": [
    "vecs[0]"
   ]
  },
  {
   "cell_type": "code",
   "execution_count": 874,
   "metadata": {},
   "outputs": [
    {
     "data": {
      "text/plain": [
       "array([0.70710678, 0.70710678])"
      ]
     },
     "execution_count": 874,
     "metadata": {},
     "output_type": "execute_result"
    }
   ],
   "source": [
    "def gen_measurement_vector(theta):\n",
    "    #generate a measurement vector --> (x,z)\n",
    "    #functions assume radians\n",
    "    components = np.array(([np.sin(theta),np.cos(theta)]))\n",
    "    magnitude = math.sqrt(sum(pow(element, 2) for element in components))\n",
    "    unit_vector = components/magnitude\n",
    "    return unit_vector\n",
    "\n",
    "\n",
    "\n",
    "gen_measurement_vector(np.pi/4)"
   ]
  },
  {
   "cell_type": "code",
   "execution_count": 875,
   "metadata": {},
   "outputs": [
    {
     "name": "stderr",
     "output_type": "stream",
     "text": [
      "C:\\Users\\jacob\\AppData\\Local\\Programs\\Python\\Python37-32\\lib\\site-packages\\ipykernel_launcher.py:64: RuntimeWarning: invalid value encountered in double_scalars\n",
      "C:\\Users\\jacob\\AppData\\Local\\Programs\\Python\\Python37-32\\lib\\site-packages\\ipykernel_launcher.py:65: RuntimeWarning: invalid value encountered in double_scalars\n"
     ]
    },
    {
     "data": {
      "text/plain": [
       "nan"
      ]
     },
     "execution_count": 875,
     "metadata": {},
     "output_type": "execute_result"
    }
   ],
   "source": [
    "def experiment(theta, number_of_momentum_vectors):\n",
    "    \n",
    "    #creates 4 experiement vectors from input theta\n",
    "    alpha_1 = gen_measurement_vector(0*theta)\n",
    "    alpha_2 = gen_measurement_vector(theta)\n",
    "    beta_1 = gen_measurement_vector(theta)\n",
    "    beta_2 = gen_measurement_vector(2*theta)\n",
    "    \n",
    "    #used to calcuate correlators \n",
    "    alpha_1_beta_1 = [] \n",
    "    alpha_2_beta_1 = [] \n",
    "    alpha_1_beta_2 = [] \n",
    "    alpha_2_beta_2 = []\n",
    "    \n",
    "    #creates N momentum vectors\n",
    "    momentum_vectors = gen_momentum_vectors(number_of_momentum_vectors)\n",
    "   \n",
    "    #does experiment\n",
    "    for up_momentum_vectors in momentum_vectors[0]:\n",
    "        #randomly chooses an alpha and a beta\n",
    "        #print(np.random.uniform(0, 1, size = 1)[0])\n",
    "        counter_alpha = 0 \n",
    "        counter_beta = 0\n",
    "        if random.randint(1, 2)  == 1:\n",
    "            measurement_1 = alpha_1\n",
    "            counter_alpha += 1\n",
    "        else: \n",
    "            measurement_1 = alpha_2\n",
    "            counter_alpha += 2\n",
    "            \n",
    "        if random.randint(1, 2) == 1:\n",
    "            measurement_2 = beta_1\n",
    "            counter_beta += 1\n",
    "        else: \n",
    "            measurement_2 = beta_2\n",
    "            counter_beta += 2\n",
    "        #normalize momentum vectors\n",
    "        components = np.array(up_momentum_vectors)\n",
    "        magnitude = math.sqrt(sum(pow(element, 2) for element in components))\n",
    "        unit_vector = components/magnitude\n",
    "        \n",
    "       \n",
    "        \n",
    "        #measurements\n",
    "        a_alpha_i = np.sign(np.dot(measurement_1,unit_vector))\n",
    "        b_beta_i = -np.sign(np.dot(measurement_2,unit_vector))\n",
    "        measurement = a_alpha_i[0]*b_beta_i[0]\n",
    "        \n",
    "        \n",
    "        #sorts measruements into 4 correlators to later calculate CHSH correlator\n",
    "        \n",
    "        #problem here alpha_2_beta_1 array not populating\n",
    "        if counter_alpha == 1 & counter_beta == 1:\n",
    "            alpha_1_beta_1.append(measurement)\n",
    "        elif counter_alpha == 1 & counter_beta == 2: \n",
    "            alpha_1_beta_2.append(measurement)\n",
    "        elif counter_alpha == 2 & counter_beta == 1:\n",
    "            alpha_2_beta_1.append(measurement)\n",
    "        elif counter_alpha == 2 & counter_beta == 2:\n",
    "            alpha_2_beta_2.append(measurement)\n",
    "        \n",
    "    \n",
    "    correlator_11 = np.sum(alpha_1_beta_1)/len(alpha_1_beta_1)\n",
    "    correlator_12 = np.sum(alpha_1_beta_2)/len(alpha_1_beta_2)\n",
    "    correlator_21 = np.sum(alpha_2_beta_1)/len(alpha_2_beta_1) \n",
    "    correlator_22 = np.sum(alpha_2_beta_2)/len(alpha_2_beta_2)\n",
    "    \n",
    "    S = correlator_11 + correlator_12 + correlator_21 - correlator_22    \n",
    "        \n",
    "    \n",
    "    return S\n",
    "    \n",
    "experiment(np.pi/4,2000)"
   ]
  }
 ],
 "metadata": {
  "kernelspec": {
   "display_name": "Python 3",
   "language": "python",
   "name": "python3"
  },
  "language_info": {
   "codemirror_mode": {
    "name": "ipython",
    "version": 3
   },
   "file_extension": ".py",
   "mimetype": "text/x-python",
   "name": "python",
   "nbconvert_exporter": "python",
   "pygments_lexer": "ipython3",
   "version": "3.10.0"
  },
  "orig_nbformat": 4,
  "vscode": {
   "interpreter": {
    "hash": "369f2c481f4da34e4445cda3fffd2e751bd1c4d706f27375911949ba6bb62e1c"
   }
  }
 },
 "nbformat": 4,
 "nbformat_minor": 2
}
