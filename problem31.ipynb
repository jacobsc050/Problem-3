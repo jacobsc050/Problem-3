{
 "cells": [
  {
   "cell_type": "code",
   "execution_count": 950,
   "metadata": {},
   "outputs": [],
   "source": [
    "import numpy as np \n",
    "import pandas as pd \n",
    "import matplotlib.pyplot as plt\n",
    "import math\n",
    "import random\n"
   ]
  },
  {
   "cell_type": "code",
   "execution_count": 951,
   "metadata": {},
   "outputs": [
    {
     "data": {
      "text/plain": [
       "array([[[-0.11248274],\n",
       "        [-0.95355791]],\n",
       "\n",
       "       [[-0.0701281 ],\n",
       "        [-0.861393  ]],\n",
       "\n",
       "       [[-0.06184476],\n",
       "        [-0.35027806]],\n",
       "\n",
       "       [[ 0.98974363],\n",
       "        [ 0.61620595]],\n",
       "\n",
       "       [[ 0.38072732],\n",
       "        [-0.72663546]],\n",
       "\n",
       "       [[-0.49913809],\n",
       "        [ 0.33820718]],\n",
       "\n",
       "       [[-0.53400111],\n",
       "        [-0.90245123]],\n",
       "\n",
       "       [[-0.56717039],\n",
       "        [-0.0474527 ]],\n",
       "\n",
       "       [[-0.3536352 ],\n",
       "        [-0.35940999]],\n",
       "\n",
       "       [[-0.09862035],\n",
       "        [ 0.14778847]]])"
      ]
     },
     "execution_count": 951,
     "metadata": {},
     "output_type": "execute_result"
    }
   ],
   "source": [
    "\n",
    "\n",
    "def gen_momentum_vectors(N):\n",
    "    #generate random 2d, unit vectors ---> (x, z)\n",
    "    x_vals = np.random.uniform(-1, 1, size = N)\n",
    "    z_vals = np.random.uniform(-1, 1, size = N)\n",
    "    \n",
    "    J_plus = np.asarray([np.asarray([x, z]).reshape(2,1) for x, z in zip(x_vals, z_vals)])\n",
    "    J_minus = np.asarray([-1*Jp for Jp in J_plus])\n",
    "    \n",
    "    return [J_plus, J_minus]\n",
    "\n",
    "\n",
    "vecs = gen_momentum_vectors(10)\n",
    "\n",
    "\n",
    "vecs[1]    \n"
   ]
  },
  {
   "cell_type": "code",
   "execution_count": 952,
   "metadata": {},
   "outputs": [
    {
     "data": {
      "text/plain": [
       "array([[[ 0.11248274],\n",
       "        [ 0.95355791]],\n",
       "\n",
       "       [[ 0.0701281 ],\n",
       "        [ 0.861393  ]],\n",
       "\n",
       "       [[ 0.06184476],\n",
       "        [ 0.35027806]],\n",
       "\n",
       "       [[-0.98974363],\n",
       "        [-0.61620595]],\n",
       "\n",
       "       [[-0.38072732],\n",
       "        [ 0.72663546]],\n",
       "\n",
       "       [[ 0.49913809],\n",
       "        [-0.33820718]],\n",
       "\n",
       "       [[ 0.53400111],\n",
       "        [ 0.90245123]],\n",
       "\n",
       "       [[ 0.56717039],\n",
       "        [ 0.0474527 ]],\n",
       "\n",
       "       [[ 0.3536352 ],\n",
       "        [ 0.35940999]],\n",
       "\n",
       "       [[ 0.09862035],\n",
       "        [-0.14778847]]])"
      ]
     },
     "execution_count": 952,
     "metadata": {},
     "output_type": "execute_result"
    }
   ],
   "source": [
    "vecs[0]"
   ]
  },
  {
   "cell_type": "code",
   "execution_count": 953,
   "metadata": {},
   "outputs": [
    {
     "data": {
      "text/plain": [
       "array([0.70710678, 0.70710678])"
      ]
     },
     "execution_count": 953,
     "metadata": {},
     "output_type": "execute_result"
    }
   ],
   "source": [
    "def gen_measurement_vector(theta):\n",
    "    #generate a measurement vector --> (x,z)\n",
    "    #functions assume radians\n",
    "    components = np.array(([np.sin(theta),np.cos(theta)]))\n",
    "    magnitude = math.sqrt(sum(pow(element, 2) for element in components))\n",
    "    unit_vector = components/magnitude\n",
    "    return unit_vector\n",
    "\n",
    "\n",
    "\n",
    "gen_measurement_vector(np.pi/4)"
   ]
  },
  {
   "cell_type": "code",
   "execution_count": 954,
   "metadata": {},
   "outputs": [
    {
     "name": "stdout",
     "output_type": "stream",
     "text": [
      "Correlator:  -2.0 Angle:  0.0\n",
      "Correlator:  -1.7776696727343524 Angle:  0.2026833970057931\n",
      "Correlator:  -1.5727671043985534 Angle:  0.4053667940115862\n",
      "Correlator:  -1.3191586511976632 Angle:  0.6080501910173793\n",
      "Correlator:  -0.8875573252527036 Angle:  0.8107335880231724\n",
      "Correlator:  -0.6088225196900499 Angle:  1.0134169850289656\n",
      "Correlator:  -0.4824448924397944 Angle:  1.2161003820347587\n",
      "Correlator:  -0.21575652280349197 Angle:  1.4187837790405518\n",
      "Correlator:  -0.06305901173216183 Angle:  1.6214671760463448\n",
      "Correlator:  -0.26848010576755676 Angle:  1.824150573052138\n",
      "Correlator:  -0.7610983279644117 Angle:  2.026833970057931\n",
      "Correlator:  -0.8496422035167 Angle:  2.2295173670637243\n",
      "Correlator:  -1.0368412709450385 Angle:  2.4322007640695174\n",
      "Correlator:  -1.1099874026282557 Angle:  2.6348841610753104\n",
      "Correlator:  -1.636917746200061 Angle:  2.8375675580811035\n",
      "Correlator:  -1.814538753913713 Angle:  3.0402509550868966\n",
      "Correlator:  -1.8579769082532755 Angle:  3.2429343520926897\n",
      "Correlator:  -1.688425738772961 Angle:  3.4456177490984827\n",
      "Correlator:  -1.2338264451917538 Angle:  3.648301146104276\n",
      "Correlator:  -0.9861871145037227 Angle:  3.850984543110069\n",
      "Correlator:  -0.9142610863067085 Angle:  4.053667940115862\n",
      "Correlator:  -0.6131387902049523 Angle:  4.2563513371216555\n",
      "Correlator:  -0.29859219268774784 Angle:  4.4590347341274486\n",
      "Correlator:  -0.15702164135004945 Angle:  4.661718131133242\n",
      "Correlator:  -0.1616730594773862 Angle:  4.864401528139035\n",
      "Correlator:  -0.5031313266218777 Angle:  5.067084925144828\n",
      "Correlator:  -0.5983011938091434 Angle:  5.269768322150621\n",
      "Correlator:  -0.9887819653599101 Angle:  5.472451719156414\n",
      "Correlator:  -1.4180198805644644 Angle:  5.675135116162207\n",
      "Correlator:  -1.5407096252231618 Angle:  5.877818513168\n",
      "Correlator:  -1.7650854652473287 Angle:  6.080501910173793\n",
      "Correlator:  -2.0 Angle:  6.283185307179586\n"
     ]
    }
   ],
   "source": [
    "def experiment(theta, number_of_momentum_vectors):\n",
    "    \n",
    "    #creates 4 experiement vectors from input theta\n",
    "    alpha_1 = gen_measurement_vector(0*theta)\n",
    "    alpha_2 = gen_measurement_vector(theta)\n",
    "    beta_1 = gen_measurement_vector(theta)\n",
    "    beta_2 = gen_measurement_vector(2*theta)\n",
    "    \n",
    "    #used to calcuate correlators \n",
    "    alpha_1_beta_1 = [] \n",
    "    alpha_2_beta_1 = [] \n",
    "    alpha_1_beta_2 = [] \n",
    "    alpha_2_beta_2 = []\n",
    "    \n",
    "    #creates N momentum vectors\n",
    "    momentum_vectors = gen_momentum_vectors(number_of_momentum_vectors)\n",
    "   \n",
    "    #does experiment\n",
    "    for up_momentum_vectors in momentum_vectors[0]:\n",
    "        #randomly chooses an alpha and a beta\n",
    "        #print(np.random.uniform(0, 1, size = 1)[0])\n",
    "        counter_alpha = 0 \n",
    "        counter_beta = 0\n",
    "        if random.randint(1, 2)  == 1:\n",
    "            measurement_1 = alpha_1\n",
    "            counter_alpha += 1\n",
    "        else: \n",
    "            measurement_1 = alpha_2\n",
    "            counter_alpha += 2\n",
    "            \n",
    "        if random.randint(1, 2) == 1:\n",
    "            measurement_2 = beta_1\n",
    "            counter_beta += 1\n",
    "        else: \n",
    "            measurement_2 = beta_2\n",
    "            counter_beta += 2\n",
    "        #normalize momentum vectors\n",
    "        components = np.array(up_momentum_vectors)\n",
    "        magnitude = math.sqrt(sum(pow(element, 2) for element in components))\n",
    "        unit_vector = components/magnitude\n",
    "        \n",
    "       \n",
    "        \n",
    "        #measurements\n",
    "        a_alpha_i = np.sign(np.dot(measurement_1,unit_vector))\n",
    "        b_beta_i = -np.sign(np.dot(measurement_2,unit_vector))\n",
    "        measurement = a_alpha_i[0]*b_beta_i[0]\n",
    "        \n",
    "        \n",
    "        #sorts measruements into 4 correlators to later calculate CHSH correlator\n",
    "        \n",
    "        #problem here alpha_2_beta_1 array not populating\n",
    "        if counter_alpha == 1 and counter_beta == 1:\n",
    "            alpha_1_beta_1.append(measurement)\n",
    "        if counter_alpha == 1 and counter_beta == 2: \n",
    "            alpha_1_beta_2.append(measurement)\n",
    "        if counter_alpha == 2 and counter_beta == 1:\n",
    "            alpha_2_beta_1.append(measurement)\n",
    "        if counter_alpha == 2 and counter_beta == 2:\n",
    "            alpha_2_beta_2.append(measurement)\n",
    "        \n",
    "    #print(alpha_1_beta_1,alpha_1_beta_2,alpha_2_beta_1,alpha_2_beta_2)\n",
    "        \n",
    "    \n",
    "    correlator_11 = np.sum(alpha_1_beta_1)/len(alpha_1_beta_1)\n",
    "    correlator_12 = np.sum(alpha_1_beta_2)/len(alpha_1_beta_2)\n",
    "    correlator_21 = np.sum(alpha_2_beta_1)/len(alpha_2_beta_1) \n",
    "    correlator_22 = np.sum(alpha_2_beta_2)/len(alpha_2_beta_2)\n",
    "    \n",
    "    S = correlator_11 + correlator_12 + correlator_21 - correlator_22    \n",
    "        \n",
    "    \n",
    "    return S\n",
    "\n",
    "for angle in np.linspace(0,2*np.pi,32):\n",
    "        #print(\"Correlator: \", experiment(angle,2000), \"Angle(in radians): \", angle)\n",
    "        print( experiment(angle,2000), angle)"
   ]
  }
 ],
 "metadata": {
  "kernelspec": {
   "display_name": "Python 3",
   "language": "python",
   "name": "python3"
  },
  "language_info": {
   "codemirror_mode": {
    "name": "ipython",
    "version": 3
   },
   "file_extension": ".py",
   "mimetype": "text/x-python",
   "name": "python",
   "nbconvert_exporter": "python",
   "pygments_lexer": "ipython3",
   "version": "3.10.0"
  },
  "orig_nbformat": 4,
  "vscode": {
   "interpreter": {
    "hash": "369f2c481f4da34e4445cda3fffd2e751bd1c4d706f27375911949ba6bb62e1c"
   }
  }
 },
 "nbformat": 4,
 "nbformat_minor": 2
}
