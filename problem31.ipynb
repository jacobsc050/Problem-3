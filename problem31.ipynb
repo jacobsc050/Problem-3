{
 "cells": [
  {
   "cell_type": "code",
   "execution_count": 2,
   "metadata": {},
   "outputs": [],
   "source": [
    "import numpy as np \n",
    "import pandas as pd \n",
    "import matplotlib.pyplot as plt\n"
   ]
  },
  {
   "cell_type": "code",
   "execution_count": 12,
   "metadata": {},
   "outputs": [
    {
     "data": {
      "text/plain": [
       "array([[[-0.39502022],\n",
       "        [-0.4334003 ]],\n",
       "\n",
       "       [[ 0.32482916],\n",
       "        [-0.6730454 ]],\n",
       "\n",
       "       [[ 0.51031133],\n",
       "        [ 0.20559264]],\n",
       "\n",
       "       [[ 0.861319  ],\n",
       "        [ 0.06702416]],\n",
       "\n",
       "       [[-0.3704702 ],\n",
       "        [-0.39766989]],\n",
       "\n",
       "       [[-0.75079127],\n",
       "        [-0.68463988]],\n",
       "\n",
       "       [[-0.8177924 ],\n",
       "        [ 0.87009409]],\n",
       "\n",
       "       [[-0.61985342],\n",
       "        [-0.73343526]],\n",
       "\n",
       "       [[ 0.5737489 ],\n",
       "        [ 0.83681038]],\n",
       "\n",
       "       [[ 0.39345755],\n",
       "        [-0.86525328]]])"
      ]
     },
     "execution_count": 12,
     "metadata": {},
     "output_type": "execute_result"
    }
   ],
   "source": [
    "\n",
    "\n",
    "def gen_momentum_vectors(N):\n",
    "    #generate random 2d, unit vectors ---> (x, z)\n",
    "    x_vals = np.random.uniform(-1, 1, size = N)\n",
    "    z_vals = np.random.uniform(-1, 1, size = N)\n",
    "    \n",
    "    J_plus = np.asarray([np.asarray([x, z]).reshape(2,1) for x, z in zip(x_vals, z_vals)])\n",
    "    J_minus = np.asarray([-1*Jp for Jp in J_plus])\n",
    "    \n",
    "    return [J_plus, J_minus]\n",
    "\n",
    "\n",
    "vecs = gen_momentum_vectors(10)\n",
    "\n",
    "\n",
    "vecs[1]    \n",
    "    \n",
    "    \n",
    "    \n",
    "\n",
    "\n",
    "\n",
    "\n",
    "\n"
   ]
  },
  {
   "cell_type": "code",
   "execution_count": 13,
   "metadata": {},
   "outputs": [
    {
     "data": {
      "text/plain": [
       "array([[[ 0.39502022],\n",
       "        [ 0.4334003 ]],\n",
       "\n",
       "       [[-0.32482916],\n",
       "        [ 0.6730454 ]],\n",
       "\n",
       "       [[-0.51031133],\n",
       "        [-0.20559264]],\n",
       "\n",
       "       [[-0.861319  ],\n",
       "        [-0.06702416]],\n",
       "\n",
       "       [[ 0.3704702 ],\n",
       "        [ 0.39766989]],\n",
       "\n",
       "       [[ 0.75079127],\n",
       "        [ 0.68463988]],\n",
       "\n",
       "       [[ 0.8177924 ],\n",
       "        [-0.87009409]],\n",
       "\n",
       "       [[ 0.61985342],\n",
       "        [ 0.73343526]],\n",
       "\n",
       "       [[-0.5737489 ],\n",
       "        [-0.83681038]],\n",
       "\n",
       "       [[-0.39345755],\n",
       "        [ 0.86525328]]])"
      ]
     },
     "execution_count": 13,
     "metadata": {},
     "output_type": "execute_result"
    }
   ],
   "source": [
    "vecs[0]"
   ]
  }
 ],
 "metadata": {
  "kernelspec": {
   "display_name": "Python 3",
   "language": "python",
   "name": "python3"
  },
  "language_info": {
   "codemirror_mode": {
    "name": "ipython",
    "version": 3
   },
   "file_extension": ".py",
   "mimetype": "text/x-python",
   "name": "python",
   "nbconvert_exporter": "python",
   "pygments_lexer": "ipython3",
   "version": "3.10.0"
  },
  "orig_nbformat": 4,
  "vscode": {
   "interpreter": {
    "hash": "369f2c481f4da34e4445cda3fffd2e751bd1c4d706f27375911949ba6bb62e1c"
   }
  }
 },
 "nbformat": 4,
 "nbformat_minor": 2
}
