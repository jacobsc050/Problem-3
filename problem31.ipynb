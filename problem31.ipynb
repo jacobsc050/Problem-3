{
 "cells": [
  {
   "cell_type": "code",
<<<<<<< Updated upstream
   "execution_count": 1160,
=======
   "execution_count": 7,
>>>>>>> Stashed changes
   "metadata": {},
   "outputs": [],
   "source": [
    "import numpy as np \n",
    "import pandas as pd \n",
    "import matplotlib.pyplot as plt\n",
    "import math\n",
    "import random\n"
   ]
  },
  {
   "cell_type": "code",
<<<<<<< Updated upstream
   "execution_count": 1161,
=======
   "execution_count": 8,
>>>>>>> Stashed changes
   "metadata": {},
   "outputs": [
    {
     "data": {
      "text/plain": [
       "array([[[ 0.95163306],\n",
       "        [-0.8734277 ]],\n",
       "\n",
       "       [[ 0.29855543],\n",
       "        [-0.70492175]],\n",
       "\n",
       "       [[-0.24631742],\n",
       "        [ 0.21457195]],\n",
       "\n",
       "       [[ 0.18398433],\n",
       "        [ 0.65304248]],\n",
       "\n",
       "       [[-0.43894202],\n",
       "        [-0.89049144]],\n",
       "\n",
       "       [[-0.55730002],\n",
       "        [-0.14506548]],\n",
       "\n",
       "       [[-0.11697175],\n",
       "        [ 0.76589143]],\n",
       "\n",
       "       [[ 0.13295259],\n",
       "        [-0.37976212]],\n",
       "\n",
       "       [[-0.3699462 ],\n",
       "        [-0.82606696]],\n",
       "\n",
       "       [[ 0.0407345 ],\n",
       "        [-0.79733074]]])"
      ]
     },
     "execution_count": 1161,
     "metadata": {},
     "output_type": "execute_result"
    }
   ],
   "source": [
    "\n",
    "\n",
    "def gen_momentum_vectors(N):\n",
    "    #generate random 2d, unit vectors ---> (x, z)\n",
    "    x_vals = np.random.uniform(-1, 1, size = N)\n",
    "    z_vals = np.random.uniform(-1, 1, size = N)\n",
    "    \n",
    "    J_plus = np.asarray([np.asarray([x, z]).reshape(2,1) for x, z in zip(x_vals, z_vals)])\n",
    "    J_minus = np.asarray([-1*Jp for Jp in J_plus])\n",
    "    \n",
    "    return [J_plus, J_minus]\n",
    "\n",
    "\n",
    "vecs = gen_momentum_vectors(10)\n",
    "\n",
    "\n",
    "vecs[1]    \n"
   ]
  },
  {
   "cell_type": "code",
<<<<<<< Updated upstream
   "execution_count": 1162,
   "metadata": {},
   "outputs": [
    {
     "data": {
      "text/plain": [
       "array([[[-0.95163306],\n",
       "        [ 0.8734277 ]],\n",
       "\n",
       "       [[-0.29855543],\n",
       "        [ 0.70492175]],\n",
       "\n",
       "       [[ 0.24631742],\n",
       "        [-0.21457195]],\n",
       "\n",
       "       [[-0.18398433],\n",
       "        [-0.65304248]],\n",
       "\n",
       "       [[ 0.43894202],\n",
       "        [ 0.89049144]],\n",
       "\n",
       "       [[ 0.55730002],\n",
       "        [ 0.14506548]],\n",
       "\n",
       "       [[ 0.11697175],\n",
       "        [-0.76589143]],\n",
       "\n",
       "       [[-0.13295259],\n",
       "        [ 0.37976212]],\n",
       "\n",
       "       [[ 0.3699462 ],\n",
       "        [ 0.82606696]],\n",
       "\n",
       "       [[-0.0407345 ],\n",
       "        [ 0.79733074]]])"
      ]
     },
     "execution_count": 1162,
     "metadata": {},
     "output_type": "execute_result"
    }
   ],
   "source": [
    "vecs[0]"
   ]
  },
  {
   "cell_type": "code",
   "execution_count": 1163,
=======
   "execution_count": 9,
>>>>>>> Stashed changes
   "metadata": {},
   "outputs": [
    {
     "data": {
      "text/plain": [
       "array([0.70710678, 0.70710678])"
      ]
     },
<<<<<<< Updated upstream
     "execution_count": 1163,
=======
     "execution_count": 9,
>>>>>>> Stashed changes
     "metadata": {},
     "output_type": "execute_result"
    }
   ],
   "source": [
    "def gen_measurement_vector(theta):\n",
    "    #generate a measurement vector --> (x,z)\n",
    "    #functions assume radians\n",
    "    components = np.array(([np.sin(theta),np.cos(theta)]))\n",
    "    magnitude = math.sqrt(sum(pow(element, 2) for element in components))\n",
    "    unit_vector = components/magnitude\n",
    "    return unit_vector\n",
    "\n",
    "\n",
    "\n",
    "gen_measurement_vector(np.pi/4)"
   ]
  },
  {
   "cell_type": "code",
<<<<<<< Updated upstream
   "execution_count": 1164,
=======
   "execution_count": 10,
>>>>>>> Stashed changes
   "metadata": {},
   "outputs": [
    {
     "name": "stdout",
     "output_type": "stream",
     "text": [
      "-2.0 -2.0\n",
      "-1.6323348290424127 -2.117826382550207\n",
      "-1.0592323644813346 -2.409568182015872\n",
      "-0.2534663902830986 -2.7129428558805495\n",
      "0.07152480947205564 -2.8256588799198505\n",
      "0.5643350973530927 -2.5817613543727824\n",
      "0.6207224641849516 -1.9162623746790426\n",
      "0.09747437277186677 -0.894677484071364\n",
      "0.11015856120123578 0.3033752840207148\n",
      "-0.35347578186851003 1.4409245158518482\n",
      "-0.5625780518700719 2.300712395925398\n",
      "-0.18723229248418466 2.755275759263219\n",
      "0.11441852117825424 2.805238378405335\n",
      "0.5570630092498439 2.572390679595034\n",
      "1.2532761187297004 2.2503117866524835\n",
      "1.8033399175695184 2.0304687137756368\n",
      "1.7653414503730653 2.0304687137756368\n",
      "1.344467297055902 2.2503117866524835\n",
      "0.6618907940277945 2.5723906795950335\n",
      "0.08857743939610108 2.8052383784053347\n",
      "-0.36535128277974876 2.755275759263218\n",
      "-0.6597998939058114 2.3007123959253972\n",
      "-0.5855372821160689 1.4409245158518496\n",
      "-0.08861296285042336 0.30337528402071456\n",
      "0.16900522342215252 -0.894677484071366\n",
      "0.4681248551625413 -1.9162623746790426\n",
      "0.440184184345675 -2.581761354372782\n",
      "0.007579084215001475 -2.8256588799198505\n",
      "-0.29278298943702974 -2.7129428558805495\n",
      "-0.8574197604271833 -2.4095681820158728\n",
      "-1.6075420568844998 -2.1178263825502075\n",
      "-2.0 -2.0\n"
     ]
    }
   ],
   "source": [
    "\n",
    "\n",
    "\n",
    "\n",
    "\n",
    "def experiment(theta, number_of_momentum_vectors):\n",
    "    theta_11 = 0*theta\n",
    "    theta_12 = 2*theta\n",
    "    theta_21 = theta\n",
    "    theta_22 = 3*theta\n",
    "    #creates 4 experiement vectors from input theta\n",
    "    alpha_1 = gen_measurement_vector(theta_11)\n",
    "    alpha_2 = gen_measurement_vector(theta_12)\n",
    "    beta_1 = gen_measurement_vector(theta_21)\n",
    "    beta_2 = gen_measurement_vector(theta_22)\n",
    "    \n",
    "    #used to calcuate correlators \n",
    "    alpha_1_beta_1 = [] \n",
    "    alpha_2_beta_1 = [] \n",
    "    alpha_1_beta_2 = [] \n",
    "    alpha_2_beta_2 = []\n",
    "    \n",
    "    #creates N momentum vectors\n",
    "    momentum_vectors = gen_momentum_vectors(number_of_momentum_vectors)\n",
    "   \n",
    "    #does experiment\n",
    "    for up_momentum_vectors in momentum_vectors[0]:\n",
    "        #randomly chooses an alpha and a beta\n",
    "        #print(np.random.uniform(0, 1, size = 1)[0])\n",
    "        counter_alpha = 0 \n",
    "        counter_beta = 0\n",
    "        if random.randint(1, 2)  == 1:\n",
    "            measurement_1 = alpha_1\n",
    "            counter_alpha += 1\n",
    "        else: \n",
    "            measurement_1 = alpha_2\n",
    "            counter_alpha += 2\n",
    "            \n",
    "        if random.randint(1, 2) == 1:\n",
    "            measurement_2 = beta_1\n",
    "            counter_beta += 1\n",
    "        else: \n",
    "            measurement_2 = beta_2\n",
    "            counter_beta += 2\n",
    "        #normalize momentum vectors\n",
    "        components = np.array(up_momentum_vectors)\n",
    "        magnitude = math.sqrt(sum(pow(element, 2) for element in components))\n",
    "        unit_vector = components/magnitude\n",
    "        \n",
    "       \n",
    "        \n",
    "        #measurements\n",
    "        a_alpha_i = np.sign(np.dot(measurement_1,unit_vector))\n",
    "        b_beta_i = -np.sign(np.dot(measurement_2,unit_vector))\n",
    "        measurement = a_alpha_i[0]*b_beta_i[0]\n",
    "        \n",
    "        \n",
    "        #sorts measruements into 4 correlators to later calculate CHSH correlator\n",
    "        \n",
    "        #problem here alpha_2_beta_1 array not populating\n",
    "        if counter_alpha == 1 and counter_beta == 1:\n",
    "            alpha_1_beta_1.append(measurement)\n",
    "        elif counter_alpha == 1 and counter_beta == 2: \n",
    "            alpha_1_beta_2.append(measurement)\n",
    "        elif counter_alpha == 2 and counter_beta == 1:\n",
    "            alpha_2_beta_1.append(measurement)\n",
    "        elif counter_alpha == 2 and counter_beta == 2:\n",
    "            alpha_2_beta_2.append(measurement)\n",
    "        \n",
    "    #print(alpha_1_beta_1,alpha_1_beta_2,alpha_2_beta_1,alpha_2_beta_2)\n",
    "        \n",
    "    \n",
    "    correlator_11 = np.sum(alpha_1_beta_1)/len(alpha_1_beta_1)\n",
    "    correlator_12 = np.sum(alpha_1_beta_2)/len(alpha_1_beta_2)\n",
    "    correlator_21 = np.sum(alpha_2_beta_1)/len(alpha_2_beta_1) \n",
    "    correlator_22 = np.sum(alpha_2_beta_2)/len(alpha_2_beta_2)\n",
    "    \n",
    "    S_classic = correlator_11 + correlator_12 + correlator_21 - correlator_22    \n",
    "    \n",
    "    S_quantum = -np.cos(theta_11-theta_21)+np.cos(theta_11-theta_22)-np.cos(theta_12-theta_21)-np.cos(theta_12-theta_22)\n",
    "        \n",
    "    \n",
    "    return S_classic, S_quantum\n",
    "\n",
    "y_axis_classical = []\n",
    "y_axis_quantum = []\n",
    "x_axis = []\n",
    "number_of_experiments = 2000\n",
    "angle_divisions = 100\n",
    "for angle in np.linspace(0,2*np.pi,angle_divisions):\n",
<<<<<<< Updated upstream
    "    classic, quantum= experiment(angle,number_of_experiments)\n",
    "    print(classic,quantum)\n",
=======
    "    \n",
    "    angles = {\n",
    "    \"theta_11\" : 0*angle,\n",
    "    \"theta_12\" : .75*angle,\n",
    "    \"theta_21\" :   angle,\n",
    "    \"theta_22\" : 3*angle\n",
    "    }\n",
    "    \n",
    "    #print(angles)\n",
    "    \n",
    "    \n",
    "    classic, quantum= experiment(number_of_experiments, **angles)\n",
    "    #print(classic,quantum)\n",
>>>>>>> Stashed changes
    "    #print(\"Correlator: \", experiment(angle,2000), \"Angle(in radians): \", angle)\n",
    "    x_axis.append(angle)\n",
    "    y_axis_classical.append(classic)\n",
    "    y_axis_quantum.append(quantum)\n",
    "    #print(experiment(angle,number_of_experiments), angle)\n",
    "        \n"
   ]
  },
  {
   "cell_type": "code",
<<<<<<< Updated upstream
   "execution_count": 1165,
=======
   "execution_count": 11,
>>>>>>> Stashed changes
   "metadata": {},
   "outputs": [
    {
     "data": {
      "text/plain": [
<<<<<<< Updated upstream
       "<matplotlib.legend.Legend at 0x12dbc410>"
      ]
     },
     "execution_count": 1165,
=======
       "<matplotlib.legend.Legend at 0x133ea650>"
      ]
     },
     "execution_count": 11,
>>>>>>> Stashed changes
     "metadata": {},
     "output_type": "execute_result"
    },
    {
     "data": {
<<<<<<< Updated upstream
      "image/png": "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",
=======
      "image/png": "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",
>>>>>>> Stashed changes
      "text/plain": [
       "<Figure size 432x288 with 1 Axes>"
      ]
     },
     "metadata": {
      "needs_background": "light"
     },
     "output_type": "display_data"
    }
   ],
   "source": [
    "plt.xlabel('Angle in Radians')\n",
    "plt.ylabel('|Correlation Value|')\n",
    "plt.title(f'Correlations (Experiments: {number_of_experiments}, Angles: {angle_divisions})')\n",
    "plt.plot(x_axis,np.abs(y_axis_classical),'ro')\n",
    "plt.plot(x_axis,np.abs(y_axis_quantum),'bo')\n",
    "plt.legend([\"classical\", \"quantum\"])"
   ]
  },
  {
   "cell_type": "code",
<<<<<<< Updated upstream
   "execution_count": null,
   "metadata": {},
   "outputs": [],
   "source": []
=======
   "execution_count": 12,
   "metadata": {},
   "outputs": [
    {
     "data": {
      "text/html": [
       "<pre style=\"white-space:pre;overflow-x:auto;line-height:normal;font-family:Menlo,'DejaVu Sans Mono',consolas,'Courier New',monospace\">C:\\Users\\jacob\\AppData\\Local\\Programs\\Python\\Python37-32\\lib\\site-packages\\rich\\live.py:229: UserWarning: install \n",
       "\"ipywidgets\" for Jupyter support\n",
       "  warnings.warn('install \"ipywidgets\" for Jupyter support')\n",
       "</pre>\n"
      ],
      "text/plain": [
       "C:\\Users\\jacob\\AppData\\Local\\Programs\\Python\\Python37-32\\lib\\site-packages\\rich\\live.py:229: UserWarning: install \n",
       "\"ipywidgets\" for Jupyter support\n",
       "  warnings.warn('install \"ipywidgets\" for Jupyter support')\n"
      ]
     },
     "metadata": {},
     "output_type": "display_data"
    }
   ],
   "source": [
    "\n",
    "\n",
    "def get_theta_ratios(max_ratio, divisions):\n",
    "    \"\"\"Generates a list of theta ratios between 0 and max_ratio devided evenly by divisions\n",
    "\n",
    "    Args:\n",
    "        max_ratio (int): maximum integer rati0\n",
    "        divisions (int): number of spaced divisions between 0 and max_ratio\n",
    "\n",
    "    Returns:\n",
    "        list: list of angle ratios, ie) [0, 0.25, 0.5, 1].  will eventually correspond to the arguments: [0*angle, 0.25*angle, 0.5*angle, 1*angle] later in the code\n",
    "    \"\"\"\n",
    "    \n",
    "    vals = [max_ratio*i*(1/divisions)  for i in range(divisions + 1)]\n",
    "    vals = vals + [i for i in range(1, max_ratio)]\n",
    "    \n",
    "    return sorted(list(set(vals)))\n",
    "\n",
    "\n",
    "def gen_theta_ratio_permutations(thetas_ratios):\n",
    "    \"\"\"Generates all posible permutations of the angles above using the combinations len(thetas ratios) choose 4, since we need 4 angles for each experiment\n",
    "\n",
    "    Args:\n",
    "        thetas_ratios (list): return value of get_theta_ratios\n",
    "\n",
    "    Returns:\n",
    "        list of lists: list of each permutation of thetas_ratios\n",
    "    \"\"\"\n",
    "    \n",
    "    comb_vals = list(combinations_with_replacement(thetas_ratios, r = 4))\n",
    "    all_perms = []\n",
    "    for i in range(len(comb_vals)):\n",
    "        comb = list(comb_vals[i])\n",
    "        perms = list(set(permutations(comb)))\n",
    "        all_perms += perms\n",
    "    \n",
    "    return list(set(all_perms))\n",
    "\n",
    "\n",
    "\n",
    "def gen_experiment_set(theta_ratios, angle_divisions = 100, number_of_experiments = 100):\n",
    "    y_axis_classical = []\n",
    "    y_axis_quantum = []\n",
    "    x_axis = []\n",
    "    \n",
    "    ret = {}\n",
    "    ret.update(theta_ratios)\n",
    "\n",
    "    for angle in np.linspace(0,2*np.pi,angle_divisions):\n",
    "        \n",
    "        \n",
    "        angles = {\n",
    "        \"theta_11\" : theta_ratios[\"theta_11\"]*angle,\n",
    "        \"theta_12\" : theta_ratios[\"theta_12\"]*angle,\n",
    "        \"theta_21\" : theta_ratios[\"theta_21\"]*angle,\n",
    "        \"theta_22\" : theta_ratios[\"theta_22\"]*angle\n",
    "        }\n",
    "        \n",
    "    \n",
    "        \n",
    "        #print(angles)\n",
    "        \n",
    "        \n",
    "        classic, quantum = experiment(number_of_experiments, **angles)\n",
    "        #print(classic,quantum)\n",
    "        #print(\"Correlator: \", experiment(angle,2000), \"Angle(in radians): \", angle)\n",
    "        \n",
    "        #x_axis.append(angle)\n",
    "        #y_axis_classical.append(classic)\n",
    "        #y_axis_quantum.append(quantum)\n",
    "        \n",
    "        x_axis = np.append(x_axis, [angle])\n",
    "        y_axis_classical = np.append(y_axis_classical, [abs(classic)])\n",
    "        y_axis_quantum = np.append(y_axis_quantum, [abs(quantum)])\n",
    "        #print(experiment(angle,number_of_experiments), angle)\n",
    "        \n",
    "        quantum_max_index = np.where(y_axis_quantum == np.max(y_axis_quantum))[0][0]\n",
    "        classical_max_index = np.where(y_axis_classical == np.max(y_axis_classical))[0][0]\n",
    "        \n",
    "    results = {\n",
    "        \"classical_max_angle\": np.rad2deg(y_axis_classical[classical_max_index]),\n",
    "        \"quantum_max_angle\": np.rad2deg(y_axis_quantum[quantum_max_index]),\n",
    "        \"classical_max_value\": y_axis_classical[classical_max_index],\n",
    "        \"quantum_max_value\": y_axis_quantum[quantum_max_index]\n",
    "    }\n",
    "    \n",
    "    ret.update(results)\n",
    "        \n",
    "    return ret\n",
    "\n",
    "\n",
    "def gen_all_experiment_sets(max_ratio, divisions, angle_divisions = 100, number_of_experiments = 100, downsample = None):\n",
    "    \n",
    "    thetas_ratios = get_theta_ratios(max_ratio, divisions)\n",
    "    all_perms = gen_theta_ratio_permutations(thetas_ratios)\n",
    "    \n",
    "    if downsample:\n",
    "        all_perms = all_perms[:downsample]\n",
    "    \n",
    "    all_exp_sets = []\n",
    "    \n",
    "    #True if downsample is given as an argument, else False\n",
    "    break_flag = False if not downsample else True\n",
    "    \n",
    "    with Progress() as progress:\n",
    "    \n",
    "    \n",
    "        task1 = progress.add_task(\"[green]Processing...\", total=len(all_perms))\n",
    "        \n",
    "        \n",
    "        for i in range(len(all_perms)):\n",
    "            progress.update(task1, advance = 1)\n",
    "            perm = all_perms[i]\n",
    "     \n",
    "            #creating dict of theta ratios\n",
    "            perm_dict = {\n",
    "                \"theta_11\" : all_perms[i][0],\n",
    "                \"theta_12\" : all_perms[i][1],\n",
    "                \"theta_21\" : all_perms[i][2],\n",
    "                \"theta_22\" : all_perms[i][3]\n",
    "                }\n",
    "            \n",
    "            a_set = gen_experiment_set(theta_ratios = perm_dict, angle_divisions = angle_divisions, number_of_experiments = number_of_experiments)\n",
    "            \n",
    "            all_exp_sets.append(a_set)\n",
    "            \n",
    "           \n",
    "            \n",
    "            \n",
    "            \n",
    "    print(\"Done.\")\n",
    "    return pd.DataFrame(all_exp_sets, index = list(range(len(all_exp_sets))))\n",
    "    \n",
    "    \n",
    "    \n",
    "\n",
    "\n",
    "\n",
    "\n",
    "perms = gen_all_experiment_sets(3, 4, downsample=None)\n",
    "\n",
    "\n",
    "perms.to_csv(\"Output.csv\")\n",
    "        \n",
    "    \n",
    "        \n",
    "\n"
   ]
  },
  {
   "cell_type": "code",
   "execution_count": null,
   "metadata": {},
   "outputs": [],
   "source": [
    "df = pd.read_csv(\"Output.csv\")\n",
    "df.head(5)\n"
   ]
  },
  {
   "cell_type": "code",
   "execution_count": null,
   "metadata": {},
   "outputs": [],
   "source": [
    "#df.plot.scatter(\"classical_max_angle\", \"classical_max_value\")\n",
    "\n",
    "df[df['quantum_max_value'] == df['quantum_max_value'].max()]"
   ]
  },
  {
   "cell_type": "code",
   "execution_count": null,
   "metadata": {},
   "outputs": [],
   "source": [
    "#df[df['classical_max_value'] == df['classical_max_value'].max()]\n",
    "df[df['classical_max_value'] > 2]"
   ]
>>>>>>> Stashed changes
  }
 ],
 "metadata": {
  "kernelspec": {
   "display_name": "Python 3",
   "language": "python",
   "name": "python3"
  },
  "language_info": {
   "codemirror_mode": {
    "name": "ipython",
    "version": 3
   },
   "file_extension": ".py",
   "mimetype": "text/x-python",
   "name": "python",
   "nbconvert_exporter": "python",
   "pygments_lexer": "ipython3",
<<<<<<< Updated upstream
   "version": "3.10.0"
=======
   "version": "3.7.0"
>>>>>>> Stashed changes
  },
  "orig_nbformat": 4,
  "vscode": {
   "interpreter": {
    "hash": "369f2c481f4da34e4445cda3fffd2e751bd1c4d706f27375911949ba6bb62e1c"
   }
  }
 },
 "nbformat": 4,
 "nbformat_minor": 2
}
