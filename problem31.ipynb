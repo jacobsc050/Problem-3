{
 "cells": [
  {
   "cell_type": "code",
   "execution_count": 1160,
   "metadata": {},
   "outputs": [],
   "source": [
    "import numpy as np \n",
    "import pandas as pd \n",
    "import matplotlib.pyplot as plt\n",
    "import math\n",
    "import random\n"
   ]
  },
  {
   "cell_type": "code",
   "execution_count": 1161,
   "metadata": {},
   "outputs": [
    {
     "data": {
      "text/plain": [
       "array([[[ 0.95163306],\n",
       "        [-0.8734277 ]],\n",
       "\n",
       "       [[ 0.29855543],\n",
       "        [-0.70492175]],\n",
       "\n",
       "       [[-0.24631742],\n",
       "        [ 0.21457195]],\n",
       "\n",
       "       [[ 0.18398433],\n",
       "        [ 0.65304248]],\n",
       "\n",
       "       [[-0.43894202],\n",
       "        [-0.89049144]],\n",
       "\n",
       "       [[-0.55730002],\n",
       "        [-0.14506548]],\n",
       "\n",
       "       [[-0.11697175],\n",
       "        [ 0.76589143]],\n",
       "\n",
       "       [[ 0.13295259],\n",
       "        [-0.37976212]],\n",
       "\n",
       "       [[-0.3699462 ],\n",
       "        [-0.82606696]],\n",
       "\n",
       "       [[ 0.0407345 ],\n",
       "        [-0.79733074]]])"
      ]
     },
     "execution_count": 1161,
     "metadata": {},
     "output_type": "execute_result"
    }
   ],
   "source": [
    "\n",
    "\n",
    "def gen_momentum_vectors(N):\n",
    "    #generate random 2d, unit vectors ---> (x, z)\n",
    "    x_vals = np.random.uniform(-1, 1, size = N)\n",
    "    z_vals = np.random.uniform(-1, 1, size = N)\n",
    "    \n",
    "    J_plus = np.asarray([np.asarray([x, z]).reshape(2,1) for x, z in zip(x_vals, z_vals)])\n",
    "    J_minus = np.asarray([-1*Jp for Jp in J_plus])\n",
    "    \n",
    "    return [J_plus, J_minus]\n",
    "\n",
    "\n",
    "vecs = gen_momentum_vectors(10)\n",
    "\n",
    "\n",
    "vecs[1]    \n"
   ]
  },
  {
   "cell_type": "code",
   "execution_count": 1162,
   "metadata": {},
   "outputs": [
    {
     "data": {
      "text/plain": [
       "array([[[-0.95163306],\n",
       "        [ 0.8734277 ]],\n",
       "\n",
       "       [[-0.29855543],\n",
       "        [ 0.70492175]],\n",
       "\n",
       "       [[ 0.24631742],\n",
       "        [-0.21457195]],\n",
       "\n",
       "       [[-0.18398433],\n",
       "        [-0.65304248]],\n",
       "\n",
       "       [[ 0.43894202],\n",
       "        [ 0.89049144]],\n",
       "\n",
       "       [[ 0.55730002],\n",
       "        [ 0.14506548]],\n",
       "\n",
       "       [[ 0.11697175],\n",
       "        [-0.76589143]],\n",
       "\n",
       "       [[-0.13295259],\n",
       "        [ 0.37976212]],\n",
       "\n",
       "       [[ 0.3699462 ],\n",
       "        [ 0.82606696]],\n",
       "\n",
       "       [[-0.0407345 ],\n",
       "        [ 0.79733074]]])"
      ]
     },
     "execution_count": 1162,
     "metadata": {},
     "output_type": "execute_result"
    }
   ],
   "source": [
    "vecs[0]"
   ]
  },
  {
   "cell_type": "code",
   "execution_count": 1163,
   "metadata": {},
   "outputs": [
    {
     "data": {
      "text/plain": [
       "array([0.70710678, 0.70710678])"
      ]
     },
     "execution_count": 1163,
     "metadata": {},
     "output_type": "execute_result"
    }
   ],
   "source": [
    "def gen_measurement_vector(theta):\n",
    "    #generate a measurement vector --> (x,z)\n",
    "    #functions assume radians\n",
    "    components = np.array(([np.sin(theta),np.cos(theta)]))\n",
    "    magnitude = math.sqrt(sum(pow(element, 2) for element in components))\n",
    "    unit_vector = components/magnitude\n",
    "    return unit_vector\n",
    "\n",
    "\n",
    "\n",
    "gen_measurement_vector(np.pi/4)"
   ]
  },
  {
   "cell_type": "code",
   "execution_count": 1164,
   "metadata": {},
   "outputs": [
    {
     "name": "stdout",
     "output_type": "stream",
     "text": [
      "-2.0 -2.0\n",
      "-1.6323348290424127 -2.117826382550207\n",
      "-1.0592323644813346 -2.409568182015872\n",
      "-0.2534663902830986 -2.7129428558805495\n",
      "0.07152480947205564 -2.8256588799198505\n",
      "0.5643350973530927 -2.5817613543727824\n",
      "0.6207224641849516 -1.9162623746790426\n",
      "0.09747437277186677 -0.894677484071364\n",
      "0.11015856120123578 0.3033752840207148\n",
      "-0.35347578186851003 1.4409245158518482\n",
      "-0.5625780518700719 2.300712395925398\n",
      "-0.18723229248418466 2.755275759263219\n",
      "0.11441852117825424 2.805238378405335\n",
      "0.5570630092498439 2.572390679595034\n",
      "1.2532761187297004 2.2503117866524835\n",
      "1.8033399175695184 2.0304687137756368\n",
      "1.7653414503730653 2.0304687137756368\n",
      "1.344467297055902 2.2503117866524835\n",
      "0.6618907940277945 2.5723906795950335\n",
      "0.08857743939610108 2.8052383784053347\n",
      "-0.36535128277974876 2.755275759263218\n",
      "-0.6597998939058114 2.3007123959253972\n",
      "-0.5855372821160689 1.4409245158518496\n",
      "-0.08861296285042336 0.30337528402071456\n",
      "0.16900522342215252 -0.894677484071366\n",
      "0.4681248551625413 -1.9162623746790426\n",
      "0.440184184345675 -2.581761354372782\n",
      "0.007579084215001475 -2.8256588799198505\n",
      "-0.29278298943702974 -2.7129428558805495\n",
      "-0.8574197604271833 -2.4095681820158728\n",
      "-1.6075420568844998 -2.1178263825502075\n",
      "-2.0 -2.0\n"
     ]
    }
   ],
   "source": [
    "\n",
    "\n",
    "\n",
    "\n",
    "\n",
    "def experiment(theta, number_of_momentum_vectors):\n",
    "    theta_11 = 0*theta\n",
    "    theta_12 = 2*theta\n",
    "    theta_21 = theta\n",
    "    theta_22 = 3*theta\n",
    "    #creates 4 experiement vectors from input theta\n",
    "    alpha_1 = gen_measurement_vector(theta_11)\n",
    "    alpha_2 = gen_measurement_vector(theta_12)\n",
    "    beta_1 = gen_measurement_vector(theta_21)\n",
    "    beta_2 = gen_measurement_vector(theta_22)\n",
    "    \n",
    "    #used to calcuate correlators \n",
    "    alpha_1_beta_1 = [] \n",
    "    alpha_2_beta_1 = [] \n",
    "    alpha_1_beta_2 = [] \n",
    "    alpha_2_beta_2 = []\n",
    "    \n",
    "    #creates N momentum vectors\n",
    "    momentum_vectors = gen_momentum_vectors(number_of_momentum_vectors)\n",
    "   \n",
    "    #does experiment\n",
    "    for up_momentum_vectors in momentum_vectors[0]:\n",
    "        #randomly chooses an alpha and a beta\n",
    "        #print(np.random.uniform(0, 1, size = 1)[0])\n",
    "        counter_alpha = 0 \n",
    "        counter_beta = 0\n",
    "        if random.randint(1, 2)  == 1:\n",
    "            measurement_1 = alpha_1\n",
    "            counter_alpha += 1\n",
    "        else: \n",
    "            measurement_1 = alpha_2\n",
    "            counter_alpha += 2\n",
    "            \n",
    "        if random.randint(1, 2) == 1:\n",
    "            measurement_2 = beta_1\n",
    "            counter_beta += 1\n",
    "        else: \n",
    "            measurement_2 = beta_2\n",
    "            counter_beta += 2\n",
    "        #normalize momentum vectors\n",
    "        components = np.array(up_momentum_vectors)\n",
    "        magnitude = math.sqrt(sum(pow(element, 2) for element in components))\n",
    "        unit_vector = components/magnitude\n",
    "        \n",
    "       \n",
    "        \n",
    "        #measurements\n",
    "        a_alpha_i = np.sign(np.dot(measurement_1,unit_vector))\n",
    "        b_beta_i = -np.sign(np.dot(measurement_2,unit_vector))\n",
    "        measurement = a_alpha_i[0]*b_beta_i[0]\n",
    "        \n",
    "        \n",
    "        #sorts measruements into 4 correlators to later calculate CHSH correlator\n",
    "        \n",
    "        #problem here alpha_2_beta_1 array not populating\n",
    "        if counter_alpha == 1 and counter_beta == 1:\n",
    "            alpha_1_beta_1.append(measurement)\n",
    "        elif counter_alpha == 1 and counter_beta == 2: \n",
    "            alpha_1_beta_2.append(measurement)\n",
    "        elif counter_alpha == 2 and counter_beta == 1:\n",
    "            alpha_2_beta_1.append(measurement)\n",
    "        elif counter_alpha == 2 and counter_beta == 2:\n",
    "            alpha_2_beta_2.append(measurement)\n",
    "        \n",
    "    #print(alpha_1_beta_1,alpha_1_beta_2,alpha_2_beta_1,alpha_2_beta_2)\n",
    "        \n",
    "    \n",
    "    correlator_11 = np.sum(alpha_1_beta_1)/len(alpha_1_beta_1)\n",
    "    correlator_12 = np.sum(alpha_1_beta_2)/len(alpha_1_beta_2)\n",
    "    correlator_21 = np.sum(alpha_2_beta_1)/len(alpha_2_beta_1) \n",
    "    correlator_22 = np.sum(alpha_2_beta_2)/len(alpha_2_beta_2)\n",
    "    \n",
    "    S_classic = correlator_11 + correlator_12 + correlator_21 - correlator_22    \n",
    "    \n",
    "    S_quantum = -np.cos(theta_11-theta_21)+np.cos(theta_11-theta_22)-np.cos(theta_12-theta_21)-np.cos(theta_12-theta_22)\n",
    "        \n",
    "    \n",
    "    return S_classic, S_quantum\n",
    "\n",
    "y_axis_classical = []\n",
    "y_axis_quantum = []\n",
    "x_axis = []\n",
    "number_of_experiments = 2000\n",
    "angle_divisions = 100\n",
    "for angle in np.linspace(0,2*np.pi,angle_divisions):\n",
    "    classic, quantum= experiment(angle,number_of_experiments)\n",
    "    print(classic,quantum)\n",
    "    #print(\"Correlator: \", experiment(angle,2000), \"Angle(in radians): \", angle)\n",
    "    x_axis.append(angle)\n",
    "    y_axis_classical.append(classic)\n",
    "    y_axis_quantum.append(quantum)\n",
    "    #print(experiment(angle,number_of_experiments), angle)\n",
    "        \n"
   ]
  },
  {
   "cell_type": "code",
   "execution_count": 1165,
   "metadata": {},
   "outputs": [
    {
     "data": {
      "text/plain": [
       "<matplotlib.legend.Legend at 0x12dbc410>"
      ]
     },
     "execution_count": 1165,
     "metadata": {},
     "output_type": "execute_result"
    },
    {
     "data": {
      "image/png": "[encoded data removed]",
      "text/plain": [
       "<Figure size 432x288 with 1 Axes>"
      ]
     },
     "metadata": {
      "needs_background": "light"
     },
     "output_type": "display_data"
    }
   ],
   "source": [
    "plt.xlabel('Angle in Radians')\n",
    "plt.ylabel('|Correlation Value|')\n",
    "plt.title(f'Correlations (Experiments: {number_of_experiments}, Angles: {angle_divisions})')\n",
    "plt.plot(x_axis,np.abs(y_axis_classical),'ro')\n",
    "plt.plot(x_axis,np.abs(y_axis_quantum),'bo')\n",
    "plt.legend([\"classical\", \"quantum\"])"
   ]
  },
  {
   "cell_type": "code",
   "execution_count": null,
   "metadata": {},
   "outputs": [],
   "source": []
  }
 ],
 "metadata": {
  "kernelspec": {
   "display_name": "Python 3",
   "language": "python",
   "name": "python3"
  },
  "language_info": {
   "codemirror_mode": {
    "name": "ipython",
    "version": 3
   },
   "file_extension": ".py",
   "mimetype": "text/x-python",
   "name": "python",
   "nbconvert_exporter": "python",
   "pygments_lexer": "ipython3",
   "version": "3.10.0"
  },
  "orig_nbformat": 4,
  "vscode": {
   "interpreter": {
    "hash": "369f2c481f4da34e4445cda3fffd2e751bd1c4d706f27375911949ba6bb62e1c"
   }
  }
 },
 "nbformat": 4,
 "nbformat_minor": 2
}
